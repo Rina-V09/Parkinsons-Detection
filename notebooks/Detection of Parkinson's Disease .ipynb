{
 "cells": [
  {
   "cell_type": "code",
   "execution_count": null,
   "id": "f7a8e7c0",
   "metadata": {},
   "outputs": [],
   "source": [
    "import pandas as pd\n",
    "import numpy as np\n",
    "import seaborn as sns\n",
    "import matplotlib.pyplot as plt\n",
    "from sklearn import metrics\n",
    "from sklearn.model_selection import train_test_split\n",
    "from sklearn.linear_model import LogisticRegression\n",
    "from sklearn.ensemble import RandomForestClassifier\n",
    "from sklearn.metrics import accuracy_score, confusion_matrix, classification_report \n",
    "import os"
   ]
  },
  {
   "cell_type": "code",
   "execution_count": null,
   "id": "d7c08557",
   "metadata": {},
   "outputs": [],
   "source": [
    "print (os.getcwd())"
   ]
  },
  {
   "cell_type": "code",
   "execution_count": null,
   "id": "57223acb",
   "metadata": {},
   "outputs": [],
   "source": [
    "os.chdir ('C:\\\\Users\\\\asus\\\\OneDrive\\\\Documents\\\\Data Science Intership\\\\PROJECT Parkinson')\n",
    "print (os.getcwd())"
   ]
  },
  {
   "cell_type": "code",
   "execution_count": null,
   "id": "77bf7b7c",
   "metadata": {},
   "outputs": [],
   "source": [
    "df=pd.read_csv('parkinsons.data')\n",
    "display (df)"
   ]
  },
  {
   "cell_type": "code",
   "execution_count": null,
   "id": "0d10a7c4",
   "metadata": {},
   "outputs": [],
   "source": [
    "from ydata_profiling import ProfileReport\n",
    "profile = ProfileReport(df)\n",
    "profile.to_notebook_iframe()  # or profile.to_widgets() or profile.to_file(\"report.html\")"
   ]
  },
  {
   "cell_type": "code",
   "execution_count": null,
   "id": "9e7af868-c380-442e-a2d1-991db953551a",
   "metadata": {},
   "outputs": [],
   "source": [
    "from ydata_profiling import ProfileReport\n",
    "\n",
    "profile = ProfileReport(df)\n",
    "profile.to_file(\"report.html\")  # This saves the report as an HTML file"
   ]
  },
  {
   "cell_type": "code",
   "execution_count": null,
   "id": "88d4346c",
   "metadata": {},
   "outputs": [],
   "source": [
    "display (df.shape)"
   ]
  },
  {
   "cell_type": "code",
   "execution_count": null,
   "id": "489f5a04",
   "metadata": {},
   "outputs": [],
   "source": [
    "print (len(df))"
   ]
  },
  {
   "cell_type": "code",
   "execution_count": null,
   "id": "9ae6a420",
   "metadata": {},
   "outputs": [],
   "source": [
    "display (df.dtypes )"
   ]
  },
  {
   "cell_type": "code",
   "execution_count": null,
   "id": "89646938",
   "metadata": {},
   "outputs": [],
   "source": [
    "print (df.info())"
   ]
  },
  {
   "cell_type": "code",
   "execution_count": null,
   "id": "f1c72fef",
   "metadata": {},
   "outputs": [],
   "source": [
    "display (df.describe())"
   ]
  },
  {
   "cell_type": "code",
   "execution_count": null,
   "id": "2c402685",
   "metadata": {},
   "outputs": [],
   "source": [
    "display (df.isna().sum() )"
   ]
  },
  {
   "cell_type": "code",
   "execution_count": null,
   "id": "59fda4c1",
   "metadata": {},
   "outputs": [],
   "source": [
    "print (df.columns)"
   ]
  },
  {
   "cell_type": "code",
   "execution_count": null,
   "id": "63ee1fec",
   "metadata": {},
   "outputs": [],
   "source": [
    "print (df['status'])"
   ]
  },
  {
   "cell_type": "code",
   "execution_count": null,
   "id": "91dfa2b0",
   "metadata": {},
   "outputs": [],
   "source": [
    "%matplotlib inline\n",
    "import matplotlib.pyplot as plt\n",
    "import seaborn as sns\n",
    "\n",
    "plt.figure(figsize=(10, 6))\n",
    "sns.barplot(x=\"status\",y=\"NHR\",data=df);\n",
    "\n",
    "plt.savefig(\"nhr_vs_status.png\", dpi=300, bbox_inches='tight')\n",
    "\n",
    "plt.show()"
   ]
  },
  {
   "cell_type": "code",
   "execution_count": null,
   "id": "450de017",
   "metadata": {},
   "outputs": [],
   "source": [
    "plt.figure(figsize=(10, 6))\n",
    "sns.barplot(x=\"status\",y=\"HNR\",data=df);\n",
    "\n",
    "plt.savefig(\"hnr_vs_status.png\", dpi=300, bbox_inches='tight')\n",
    "\n",
    "plt.show()\n"
   ]
  },
  {
   "cell_type": "code",
   "execution_count": null,
   "id": "c5bce6bb",
   "metadata": {},
   "outputs": [],
   "source": [
    "plt.figure(figsize=(10, 6))\n",
    "sns.barplot(x=\"status\",y=\"RPDE\",data=df);\n",
    "\n",
    "plt.savefig(\"rpde_vs_status.png\", dpi=300, bbox_inches='tight')\n",
    "\n",
    "plt.show()\n"
   ]
  },
  {
   "cell_type": "code",
   "execution_count": null,
   "id": "7485e39e",
   "metadata": {},
   "outputs": [],
   "source": [
    "import warnings\n",
    "warnings.filterwarnings('ignore')\n",
    "rows=3\n",
    "cols=7\n",
    "fig, ax=plt.subplots(nrows=rows,ncols=cols,figsize=(16,4))\n",
    "col=df.columns\n",
    "index=1\n",
    "for i in range(rows):\n",
    "    for j in range(cols):\n",
    "        sns.distplot(df[col[index]],ax=ax[i][j])\n",
    "        index=index+1\n",
    "        \n",
    "plt.tight_layout()\n",
    "plt.savefig(\"feature_distributions.png\", dpi=300, bbox_inches='tight')\n",
    "plt.show()"
   ]
  },
  {
   "cell_type": "code",
   "execution_count": null,
   "id": "290ab53b",
   "metadata": {},
   "outputs": [],
   "source": [
    "corr = df.select_dtypes(include='number').corr()\n",
    "display(corr)\n"
   ]
  },
  {
   "cell_type": "code",
   "execution_count": null,
   "id": "0bd2becb",
   "metadata": {},
   "outputs": [],
   "source": [
    "from matplotlib.pylab import rcParams\n",
    "rcParams['figure.figsize'] = 20,10\n",
    "\n",
    "sns.heatmap(corr, xticklabels=corr.columns, yticklabels=corr.columns, cmap='cubehelix',annot = True)\n",
    "\n",
    "plt.savefig(\"correlation_heatmap.png\", dpi=300, bbox_inches='tight')\n",
    "plt.show()"
   ]
  },
  {
   "cell_type": "code",
   "execution_count": null,
   "id": "276da842",
   "metadata": {},
   "outputs": [],
   "source": [
    "from matplotlib.pylab import rcParams\n",
    "rcParams['figure.figsize'] = 20,10\n",
    "sns.heatmap(corr)\n",
    "plt.savefig(\"basic_correlation_heatmap.png\", dpi=300, bbox_inches='tight')\n",
    "\n",
    "plt.show()"
   ]
  },
  {
   "cell_type": "code",
   "execution_count": null,
   "id": "3c1456be",
   "metadata": {},
   "outputs": [],
   "source": [
    "df.drop(['name'],axis=1,inplace=True)\n",
    "display (df)\n"
   ]
  },
  {
   "cell_type": "code",
   "execution_count": null,
   "id": "e76028c2",
   "metadata": {},
   "outputs": [],
   "source": [
    "X=df.drop(labels=['status'],axis=1)\n",
    "display (X.head())"
   ]
  },
  {
   "cell_type": "code",
   "execution_count": null,
   "id": "1a33dd6a",
   "metadata": {},
   "outputs": [],
   "source": [
    "Y=df['status']\n",
    "display (Y.head())\n"
   ]
  },
  {
   "cell_type": "code",
   "execution_count": null,
   "id": "69afa808",
   "metadata": {},
   "outputs": [],
   "source": [
    "X_train,X_test,Y_train,Y_test=train_test_split(X,Y,test_size=0.2,random_state=40)\n",
    "print (X.shape,Y.shape)\n",
    "print(X_train.shape,X_test.shape,Y_train.shape,Y_test.shape)"
   ]
  },
  {
   "cell_type": "code",
   "execution_count": null,
   "id": "b2cf773f",
   "metadata": {},
   "outputs": [],
   "source": [
    "log_reg = LogisticRegression().fit(X_train, Y_train)"
   ]
  },
  {
   "cell_type": "code",
   "execution_count": null,
   "id": "8b5a1701",
   "metadata": {},
   "outputs": [],
   "source": [
    "train_preds = log_reg.predict(X_train)"
   ]
  },
  {
   "cell_type": "code",
   "execution_count": null,
   "id": "5fc251e8",
   "metadata": {},
   "outputs": [],
   "source": [
    "print(\"Model accuracy on train is: \", accuracy_score(Y_train, train_preds))"
   ]
  },
  {
   "cell_type": "code",
   "execution_count": null,
   "id": "bdc07ec7",
   "metadata": {},
   "outputs": [],
   "source": [
    "#predict on test\n",
    "test_preds = log_reg.predict(X_test)\n",
    "#accuracy on test\n",
    "print(\"Model accuracy on test is: \", accuracy_score(Y_test, test_preds))\n",
    "print('-'*50)\n"
   ]
  },
  {
   "cell_type": "code",
   "execution_count": null,
   "id": "6c00627f",
   "metadata": {},
   "outputs": [],
   "source": [
    "#Confusion matrix\n",
    "print(\"confusion_matrix train is:\\n \", confusion_matrix(Y_train, train_preds))\n",
    "print(\"confusion_matrix test is:\\n \", confusion_matrix(Y_test, test_preds))\n",
    "print('\\nClassification Report Train is ')\n",
    "print(classification_report (Y_train, train_preds))\n",
    "print('\\nClassification Report Test is ')\n",
    "print(classification_report (Y_test, test_preds))"
   ]
  },
  {
   "cell_type": "code",
   "execution_count": null,
   "id": "538f1232",
   "metadata": {},
   "outputs": [],
   "source": [
    "RF=RandomForestClassifier().fit(X_train,Y_train)\n",
    "#predict on train \n",
    "train_preds2 = RF.predict(X_train)"
   ]
  },
  {
   "cell_type": "code",
   "execution_count": null,
   "id": "0ef649fb",
   "metadata": {},
   "outputs": [],
   "source": [
    "#accuracy on train\n",
    "print(\"Model accuracy on train is: \", accuracy_score(Y_train, train_preds2))\n",
    "\n"
   ]
  },
  {
   "cell_type": "code",
   "execution_count": null,
   "id": "4631469f",
   "metadata": {},
   "outputs": [],
   "source": [
    "#predict on test\n",
    "test_preds2 = RF.predict(X_test)\n",
    "#accuracy on test\n",
    "print(\"Model accuracy on test is: \", accuracy_score(Y_test, test_preds2))\n"
   ]
  },
  {
   "cell_type": "code",
   "execution_count": null,
   "id": "39424ec1",
   "metadata": {},
   "outputs": [],
   "source": [
    "#Confusion matrix\n",
    "print(\"confusion_matrix train is:\\n \", confusion_matrix(Y_train, train_preds2))\n",
    "print(\"confusion_matrix test is:\\n \", confusion_matrix(Y_test, test_preds2))\n",
    "print('\\nClassification Report Train is ')\n",
    "print(classification_report (Y_train, train_preds2))\n",
    "print('\\nClassification Report Test is ')\n",
    "print(classification_report (Y_test, test_preds2))\n"
   ]
  },
  {
   "cell_type": "code",
   "execution_count": null,
   "id": "0fa4d91f",
   "metadata": {},
   "outputs": [],
   "source": [
    "print((Y_test !=test_preds2).sum(),'/',((Y_test == test_preds2).sum()+(Y_test != test_preds2).sum()))"
   ]
  },
  {
   "cell_type": "code",
   "execution_count": null,
   "id": "f421343f",
   "metadata": {},
   "outputs": [],
   "source": [
    "print('KappaScore is: ', metrics.cohen_kappa_score(Y_test,test_preds2))"
   ]
  },
  {
   "cell_type": "code",
   "execution_count": null,
   "id": "a87cb0a2",
   "metadata": {},
   "outputs": [],
   "source": [
    "ddf=pd.DataFrame(data=[test_preds2,Y_test])\n",
    "display (ddf)\n"
   ]
  },
  {
   "cell_type": "code",
   "execution_count": null,
   "id": "7ab3b347",
   "metadata": {},
   "outputs": [],
   "source": [
    "display (ddf.T)  "
   ]
  },
  {
   "cell_type": "code",
   "execution_count": null,
   "id": "e6808d02",
   "metadata": {},
   "outputs": [],
   "source": [
    "from sklearn.tree import DecisionTreeClassifier\n",
    "#fit the model on train data \n",
    "DT = DecisionTreeClassifier().fit(X,Y)\n",
    "\n",
    "#predict on train \n",
    "train_preds3 = DT.predict(X_train)\n",
    "#accuracy on train\n",
    "print(\"Model accuracy on train is: \", accuracy_score(Y_train, train_preds3))\n"
   ]
  },
  {
   "cell_type": "code",
   "execution_count": null,
   "id": "f5ff5dc9",
   "metadata": {},
   "outputs": [],
   "source": [
    "#predict on test\n",
    "test_preds3 = DT.predict(X_test)\n",
    "#accuracy on test\n",
    "print(\"Model accuracy on test is: \", accuracy_score(Y_test, test_preds3))\n",
    "print('-'*50)\n"
   ]
  },
  {
   "cell_type": "code",
   "execution_count": null,
   "id": "a71629af",
   "metadata": {},
   "outputs": [],
   "source": [
    "#Confusion matrix\n",
    "print(\"confusion_matrix train is:\\n \", confusion_matrix(Y_train, train_preds3))\n",
    "print(\"confusion_matrix test is: \\n\", confusion_matrix(Y_test, test_preds3))\n",
    "print('Wrong predictions out of total')\n",
    "print('-'*50)\n",
    "print('\\nClassification Report Train is ')\n",
    "print(classification_report (Y_train, train_preds3))\n",
    "print('\\nClassification Report Test is ')\n",
    "print(classification_report (Y_test, test_preds3))\n"
   ]
  },
  {
   "cell_type": "code",
   "execution_count": null,
   "id": "78f83639",
   "metadata": {},
   "outputs": [],
   "source": [
    "# Wrong Predictions made.\n",
    "print((Y_test !=test_preds3).sum(),'/',((Y_test == test_preds3).sum()+(Y_test != test_preds3).sum()))\n",
    "print('-'*50)\n"
   ]
  },
  {
   "cell_type": "code",
   "execution_count": null,
   "id": "a0bdbf82",
   "metadata": {},
   "outputs": [],
   "source": [
    "# Kappa Score\n",
    "print('KappaScore is: ', metrics.cohen_kappa_score(Y_test,test_preds3))\n"
   ]
  },
  {
   "cell_type": "code",
   "execution_count": null,
   "id": "757dfaa3",
   "metadata": {},
   "outputs": [],
   "source": [
    "from sklearn.naive_bayes import GaussianNB\n",
    "#fit the model on train data \n",
    "NB=GaussianNB()\n",
    "NB.fit(X_train,Y_train)\n",
    "\n",
    "#predict on train \n",
    "train_preds4 = NB.predict(X_train)\n",
    "\n",
    "#accuracy on train\n",
    "print(\"Model accuracy on train is: \", accuracy_score(Y_train, train_preds4))\n"
   ]
  },
  {
   "cell_type": "code",
   "execution_count": null,
   "id": "e5d2bb4e",
   "metadata": {},
   "outputs": [],
   "source": [
    "#predict on test\n",
    "test_preds4 = NB.predict(X_test)\n",
    "#accuracy on test\n",
    "print(\"Model accuracy on test is: \", accuracy_score(Y_test, test_preds4))\n",
    "print('-'*50)\n"
   ]
  },
  {
   "cell_type": "code",
   "execution_count": null,
   "id": "b8d5e1b7",
   "metadata": {},
   "outputs": [],
   "source": [
    "#Confusion matrix\n",
    "print(\"confusion_matrix train is: \\n\", confusion_matrix(Y_train, train_preds4))\n",
    "print(\"confusion_matrix test is:\\n \", confusion_matrix(Y_test, test_preds4))\n",
    "print('Wrong predictions out of total')\n",
    "print('-'*50)\n",
    "print('\\nClassification Report Train is ')\n",
    "print(classification_report (Y_train, train_preds4))\n",
    "print('\\nClassification Report Test is ')\n",
    "print(classification_report (Y_test, test_preds4))\n"
   ]
  },
  {
   "cell_type": "code",
   "execution_count": null,
   "id": "a7656ecb",
   "metadata": {},
   "outputs": [],
   "source": [
    "# Wrong Predictions made.\n",
    "\n",
    "print((Y_test !=test_preds4).sum(),'/',((Y_test == test_preds4).sum()+(Y_test != test_preds4).sum()))\n",
    "print('-'*50)\n"
   ]
  },
  {
   "cell_type": "code",
   "execution_count": null,
   "id": "3384e61c",
   "metadata": {},
   "outputs": [],
   "source": [
    "# Kappa Score\n",
    "print('KappaScore is: ', metrics.cohen_kappa_score(Y_test,test_preds4))\n"
   ]
  },
  {
   "cell_type": "code",
   "execution_count": null,
   "id": "870e1268",
   "metadata": {},
   "outputs": [],
   "source": [
    "from sklearn.neighbors import KNeighborsClassifier\n",
    "#fit the model on train data \n",
    "KNN = KNeighborsClassifier().fit(X_train,Y_train)\n",
    "#predict on train \n",
    "train_preds5 = KNN.predict(X_train)\n",
    "#accuracy on train\n",
    "print(\"Model accuracy on train is: \", accuracy_score(Y_train, train_preds5))\n"
   ]
  },
  {
   "cell_type": "code",
   "execution_count": null,
   "id": "4e88ff46",
   "metadata": {},
   "outputs": [],
   "source": [
    "#predict on test\n",
    "test_preds5 = KNN.predict(X_test)\n",
    "#accuracy on test\n",
    "print(\"Model accuracy on test is: \", accuracy_score(Y_test, test_preds5))\n",
    "print('-'*50)\n"
   ]
  },
  {
   "cell_type": "code",
   "execution_count": null,
   "id": "e82679e1",
   "metadata": {},
   "outputs": [],
   "source": [
    "#Confusion matrix\n",
    "print(\"confusion_matrix train is:\\n \", confusion_matrix(Y_train, train_preds5))\n",
    "print(\"confusion_matrix test is:\\n \", confusion_matrix(Y_test, test_preds5))\n",
    "print('Wrong predictions out of total')\n",
    "print('-'*50)\n",
    "print('\\nClassification Report Train is ')\n",
    "print(classification_report (Y_train, train_preds5))\n",
    "print('\\nClassification Report Test is ')\n",
    "print(classification_report (Y_test, test_preds5))\n"
   ]
  },
  {
   "cell_type": "code",
   "execution_count": null,
   "id": "c47d73c6",
   "metadata": {},
   "outputs": [],
   "source": [
    "# Wrong Predictions made.\n",
    "print((Y_test !=test_preds5).sum(),'/',((Y_test == test_preds5).sum()+(Y_test != test_preds5).sum()))\n",
    "\n",
    "print('-'*50)\n",
    "\n",
    "# Kappa Score\n",
    "print('KappaScore is: ', metrics.cohen_kappa_score(Y_test,test_preds5))\n"
   ]
  },
  {
   "cell_type": "code",
   "execution_count": null,
   "id": "262787dd",
   "metadata": {},
   "outputs": [],
   "source": [
    "from sklearn.svm import SVC\n",
    "#fit the model on train data \n",
    "SVM = SVC(kernel='linear')\n",
    "SVM.fit(X_train, Y_train)\n"
   ]
  },
  {
   "cell_type": "code",
   "execution_count": null,
   "id": "22d94f7e",
   "metadata": {},
   "outputs": [],
   "source": [
    "#predict on train \n",
    "train_preds6 = SVM.predict(X_train)\n",
    "\n",
    "#accuracy on train\n",
    "print(\"Model accuracy on train is: \", accuracy_score(Y_train, train_preds6))\n",
    "\n",
    "#predict on test\n",
    "test_preds6 = SVM.predict(X_test)\n",
    "\n",
    "#accuracy on test\n",
    "print(\"Model accuracy on test is: \", accuracy_score(Y_test, test_preds6))\n",
    "print('-'*50)\n"
   ]
  },
  {
   "cell_type": "code",
   "execution_count": null,
   "id": "3b9158a6",
   "metadata": {},
   "outputs": [],
   "source": [
    "#Confusion matrix\n",
    "print(\"confusion_matrix train is: \\n\", confusion_matrix(Y_train, train_preds6))\n",
    "print(\"confusion_matrix test is:\\n \", confusion_matrix(Y_test, test_preds6))\n",
    "print('Wrong predictions out of total')\n",
    "print('-'*50)\n",
    "\n",
    "print(\"recall\", metrics.recall_score(Y_test, test_preds6))\n",
    "print('-'*50)\n",
    "print('\\nClassification Report Train is ')\n",
    "print(classification_report (Y_train, train_preds6))\n",
    "print('\\nClassification Report Test is ')\n",
    "print(classification_report (Y_test, test_preds6))   \n"
   ]
  },
  {
   "cell_type": "code",
   "execution_count": null,
   "id": "0965b697",
   "metadata": {},
   "outputs": [],
   "source": [
    "# Wrong Predictions made.\n",
    "print((Y_test !=test_preds6).sum(),'/',((Y_test == test_preds6).sum()+(Y_test != test_preds6).sum()))\n",
    "print('-'*50)\n",
    "# Kappa Score\n",
    "print('KappaScore is: ', metrics.cohen_kappa_score(Y_test,test_preds6))\n"
   ]
  },
  {
   "cell_type": "code",
   "execution_count": null,
   "id": "7729de15",
   "metadata": {},
   "outputs": [],
   "source": [
    "import pickle \n",
    "# Saving model to disk\n",
    "pickle.dump(SVM,open('deploy_SVM.pkl','wb'))\n",
    "# Open the Pickle File \n",
    "model=pickle.load(open('deploy_SVM.pkl','rb'))\n",
    "# Prediction \n",
    "print (model.predict (X_train))\n"
   ]
  }
 ],
 "metadata": {
  "kernelspec": {
   "display_name": "Python 3 (ipykernel)",
   "language": "python",
   "name": "python3"
  },
  "language_info": {
   "codemirror_mode": {
    "name": "ipython",
    "version": 3
   },
   "file_extension": ".py",
   "mimetype": "text/x-python",
   "name": "python",
   "nbconvert_exporter": "python",
   "pygments_lexer": "ipython3",
   "version": "3.12.7"
  }
 },
 "nbformat": 4,
 "nbformat_minor": 5
}
